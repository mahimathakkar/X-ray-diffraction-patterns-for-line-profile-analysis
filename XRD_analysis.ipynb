{
  "nbformat": 4,
  "nbformat_minor": 0,
  "metadata": {
    "kernelspec": {
      "display_name": "Python 3",
      "language": "python",
      "name": "python3"
    },
    "language_info": {
      "codemirror_mode": {
        "name": "ipython",
        "version": 3
      },
      "file_extension": ".py",
      "mimetype": "text/x-python",
      "name": "python",
      "nbconvert_exporter": "python",
      "pygments_lexer": "ipython3",
      "version": "3.8.3"
    },
    "colab": {
      "name": "XRD_analysis.ipynb",
      "provenance": [],
      "include_colab_link": true
    }
  },
  "cells": [
    {
      "cell_type": "markdown",
      "metadata": {
        "id": "view-in-github",
        "colab_type": "text"
      },
      "source": [
        "<a href=\"https://colab.research.google.com/github/mahimathakkar/X-ray-diffraction-patterns-for-line-profile-analysis/blob/main/XRD_analysis.ipynb\" target=\"_parent\"><img src=\"https://colab.research.google.com/assets/colab-badge.svg\" alt=\"Open In Colab\"/></a>"
      ]
    },
    {
      "cell_type": "code",
      "metadata": {
        "id": "RkWMpbz_tTfm",
        "colab": {
          "base_uri": "https://localhost:8080/"
        },
        "outputId": "bbdd0c41-6dfc-4399-e027-62f5937f413f"
      },
      "source": [
        "import pandas as pd \n",
        "import numpy as np\n",
        "import matplotlib.pyplot as plt\n",
        "from google.colab import drive\n",
        "drive.mount('/content/drive')"
      ],
      "execution_count": 3,
      "outputs": [
        {
          "output_type": "stream",
          "text": [
            "Mounted at /content/drive\n"
          ],
          "name": "stdout"
        }
      ]
    },
    {
      "cell_type": "code",
      "metadata": {
        "id": "TvdCjqdgtTf1"
      },
      "source": [
        "xrd_si_data=pd.read_csv('/content/drive/Shareddrives/nmeshram@mt.iitr.ac.in/XRD_silicon_std_data.csv')"
      ],
      "execution_count": 4,
      "outputs": []
    },
    {
      "cell_type": "code",
      "metadata": {
        "id": "MUx2ibk5tTf2"
      },
      "source": [
        "xrd_test_data=pd.read_csv('/content/drive/Shareddrives/nmeshram@mt.iitr.ac.in/XRD_test_data.csv')"
      ],
      "execution_count": 5,
      "outputs": []
    },
    {
      "cell_type": "code",
      "metadata": {
        "id": "hUkXZso5tTf3",
        "colab": {
          "base_uri": "https://localhost:8080/",
          "height": 202
        },
        "outputId": "87c1c93b-cd86-4882-df3d-815f494c67bb"
      },
      "source": [
        "#Visualize both data sets..\n",
        "xrd_si_data.head()"
      ],
      "execution_count": 6,
      "outputs": [
        {
          "output_type": "execute_result",
          "data": {
            "text/html": [
              "<div>\n",
              "<style scoped>\n",
              "    .dataframe tbody tr th:only-of-type {\n",
              "        vertical-align: middle;\n",
              "    }\n",
              "\n",
              "    .dataframe tbody tr th {\n",
              "        vertical-align: top;\n",
              "    }\n",
              "\n",
              "    .dataframe thead th {\n",
              "        text-align: right;\n",
              "    }\n",
              "</style>\n",
              "<table border=\"1\" class=\"dataframe\">\n",
              "  <thead>\n",
              "    <tr style=\"text-align: right;\">\n",
              "      <th></th>\n",
              "      <th>Angle</th>\n",
              "      <th>Intensity</th>\n",
              "    </tr>\n",
              "  </thead>\n",
              "  <tbody>\n",
              "    <tr>\n",
              "      <th>0</th>\n",
              "      <td>30.00</td>\n",
              "      <td>190.0000</td>\n",
              "    </tr>\n",
              "    <tr>\n",
              "      <th>1</th>\n",
              "      <td>30.02</td>\n",
              "      <td>216.6667</td>\n",
              "    </tr>\n",
              "    <tr>\n",
              "      <th>2</th>\n",
              "      <td>30.04</td>\n",
              "      <td>156.0000</td>\n",
              "    </tr>\n",
              "    <tr>\n",
              "      <th>3</th>\n",
              "      <td>30.06</td>\n",
              "      <td>201.3333</td>\n",
              "    </tr>\n",
              "    <tr>\n",
              "      <th>4</th>\n",
              "      <td>30.08</td>\n",
              "      <td>227.6067</td>\n",
              "    </tr>\n",
              "  </tbody>\n",
              "</table>\n",
              "</div>"
            ],
            "text/plain": [
              "   Angle  Intensity\n",
              "0  30.00   190.0000\n",
              "1  30.02   216.6667\n",
              "2  30.04   156.0000\n",
              "3  30.06   201.3333\n",
              "4  30.08   227.6067"
            ]
          },
          "metadata": {
            "tags": []
          },
          "execution_count": 6
        }
      ]
    },
    {
      "cell_type": "code",
      "metadata": {
        "id": "-kS_FbEPtTf6",
        "colab": {
          "base_uri": "https://localhost:8080/",
          "height": 283
        },
        "outputId": "eb2c994a-3515-434d-d8b8-6b5ad367d2aa"
      },
      "source": [
        "#Plot intensity vs angle for Si standard data\n",
        "plt.plot('Angle', 'Intensity', data=xrd_si_data)"
      ],
      "execution_count": 7,
      "outputs": [
        {
          "output_type": "execute_result",
          "data": {
            "text/plain": [
              "[<matplotlib.lines.Line2D at 0x7fa978a65c88>]"
            ]
          },
          "metadata": {
            "tags": []
          },
          "execution_count": 7
        },
        {
          "output_type": "display_data",
          "data": {
            "image/png": "[encoded data removed]",
            "text/plain": [
              "<Figure size 432x288 with 1 Axes>"
            ]
          },
          "metadata": {
            "tags": [],
            "needs_background": "light"
          }
        }
      ]
    },
    {
      "cell_type": "code",
      "metadata": {
        "id": "RIR0ghvqtTf7",
        "colab": {
          "base_uri": "https://localhost:8080/",
          "height": 283
        },
        "outputId": "cae2c164-9efa-43a5-dad1-173710d26016"
      },
      "source": [
        "#Plot intensity vs angle for test data\n",
        "plt.plot('Angle', 'Intensity', data=xrd_test_data)"
      ],
      "execution_count": 8,
      "outputs": [
        {
          "output_type": "execute_result",
          "data": {
            "text/plain": [
              "[<matplotlib.lines.Line2D at 0x7fa9789d5208>]"
            ]
          },
          "metadata": {
            "tags": []
          },
          "execution_count": 8
        },
        {
          "output_type": "display_data",
          "data": {
            "image/png": "[encoded data removed]",
            "text/plain": [
              "<Figure size 432x288 with 1 Axes>"
            ]
          },
          "metadata": {
            "tags": [],
            "needs_background": "light"
          }
        }
      ]
    },
    {
      "cell_type": "code",
      "metadata": {
        "id": "OUIUbhc4tTf8"
      },
      "source": [
        "#Identifying peaks in given datasets"
      ],
      "execution_count": 9,
      "outputs": []
    },
    {
      "cell_type": "code",
      "metadata": {
        "id": "BcaNwOqztTf9",
        "colab": {
          "base_uri": "https://localhost:8080/",
          "height": 265
        },
        "outputId": "c9611b80-1d72-4980-83d1-bd58a9e97697"
      },
      "source": [
        "#Peaks in Si standard data\n",
        "from scipy.signal import argrelextrema\n",
        "from scipy.signal import find_peaks\n",
        "x_si = np.array(xrd_si_data['Angle'])\n",
        "y_si = np.array(xrd_si_data['Intensity'])\n",
        "peaks_si, _ = find_peaks(y_si,prominence=200)\n",
        "peak_data_si=pd.DataFrame(columns=['Angle_of_peak','Intensity_of_peak'])\n",
        "peak_data_si['Angle_of_peak']=np.array(x_si[peaks_si])\n",
        "peak_data_si['Intensity_of_peak']=np.array(y_si[peaks_si])\n",
        "# this way the x-axis corresponds to the index of x\n",
        "plt.plot(x_si, y_si)\n",
        "plt.plot(x_si[peaks_si], y_si[peaks_si], \"x\")\n",
        "plt.show()"
      ],
      "execution_count": 16,
      "outputs": [
        {
          "output_type": "display_data",
          "data": {
            "image/png": "[encoded data removed]",
            "text/plain": [
              "<Figure size 432x288 with 1 Axes>"
            ]
          },
          "metadata": {
            "tags": [],
            "needs_background": "light"
          }
        }
      ]
    },
    {
      "cell_type": "code",
      "metadata": {
        "id": "8Rm3hlfKtTf-",
        "colab": {
          "base_uri": "https://localhost:8080/"
        },
        "outputId": "e8508434-2251-4328-8d50-942e75de59eb"
      },
      "source": [
        "print(peak_data_si)\n"
      ],
      "execution_count": 17,
      "outputs": [
        {
          "output_type": "stream",
          "text": [
            "   Angle_of_peak  Intensity_of_peak\n",
            "0          47.50          10942.010\n",
            "1          56.32           5906.137\n",
            "2          69.32           1423.979\n",
            "3          76.54           2520.595\n",
            "4          88.18           3326.683\n",
            "5          95.08           1746.806\n",
            "6         106.82           1166.121\n",
            "7         114.18           2005.780\n"
          ],
          "name": "stdout"
        }
      ]
    },
    {
      "cell_type": "code",
      "metadata": {
        "id": "OCi93bDctTf_",
        "colab": {
          "base_uri": "https://localhost:8080/",
          "height": 265
        },
        "outputId": "34927480-71dd-4a95-da54-861d7b8e3f84"
      },
      "source": [
        "#Peaks in test data\r\n",
        "x_test = np.array(xrd_test_data['Angle'])\r\n",
        "y_test = np.array(xrd_test_data['Intensity'])\r\n",
        "peaks_test, _ = find_peaks(y_test,prominence=200)\r\n",
        "peak_data_test=pd.DataFrame(columns=['Angle_of_peak','Intensity_of_peak'])\r\n",
        "peak_data_test['Angle_of_peak']=np.array(x_test[peaks_test])\r\n",
        "peak_data_test['Intensity_of_peak']=np.array(y_test[peaks_test])\r\n",
        "plt.plot(x_test, y_test)\r\n",
        "plt.plot(x_test[peaks_test], y_test[peaks_test], \"x\")\r\n",
        "plt.show()"
      ],
      "execution_count": 14,
      "outputs": [
        {
          "output_type": "display_data",
          "data": {
            "image/png": "[encoded data removed]",
            "text/plain": [
              "<Figure size 432x288 with 1 Axes>"
            ]
          },
          "metadata": {
            "tags": [],
            "needs_background": "light"
          }
        }
      ]
    },
    {
      "cell_type": "code",
      "metadata": {
        "colab": {
          "base_uri": "https://localhost:8080/"
        },
        "id": "UvXRmuYdvBfy",
        "outputId": "3cf0dee5-bd40-432b-e1b6-0d5ca4d7fed2"
      },
      "source": [
        "print(peak_data_test)"
      ],
      "execution_count": 15,
      "outputs": [
        {
          "output_type": "stream",
          "text": [
            "   Angle_of_peak  Intensity_of_peak\n",
            "0          38.42          1576.8450\n",
            "1          44.64         14650.8500\n",
            "2          65.04          4764.8990\n",
            "3          78.14          1295.5660\n",
            "4          98.90           526.2841\n",
            "5         111.86           613.9078\n",
            "6         116.34           375.0093\n"
          ],
          "name": "stdout"
        }
      ]
    },
    {
      "cell_type": "code",
      "metadata": {
        "id": "zDDpgYnmvRRo"
      },
      "source": [
        ""
      ],
      "execution_count": null,
      "outputs": []
    },
    {
      "cell_type": "code",
      "metadata": {
        "id": "n05q5cjBtTgA"
      },
      "source": [
        ""
      ],
      "execution_count": null,
      "outputs": []
    }
  ]
}