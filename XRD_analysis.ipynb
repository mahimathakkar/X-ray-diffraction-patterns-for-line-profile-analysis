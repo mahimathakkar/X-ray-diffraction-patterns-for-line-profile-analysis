{
  "nbformat": 4,
  "nbformat_minor": 0,
  "metadata": {
    "kernelspec": {
      "display_name": "Python 3",
      "language": "python",
      "name": "python3"
    },
    "language_info": {
      "codemirror_mode": {
        "name": "ipython",
        "version": 3
      },
      "file_extension": ".py",
      "mimetype": "text/x-python",
      "name": "python",
      "nbconvert_exporter": "python",
      "pygments_lexer": "ipython3",
      "version": "3.8.3"
    },
    "colab": {
      "name": "XRD_analysis.ipynb",
      "provenance": [],
      "collapsed_sections": [],
      "include_colab_link": true
    }
  },
  "cells": [
    {
      "cell_type": "markdown",
      "metadata": {
        "id": "view-in-github",
        "colab_type": "text"
      },
      "source": [
        "<a href=\"https://colab.research.google.com/github/mahimathakkar/X-ray-diffraction-patterns-for-line-profile-analysis/blob/main/XRD_analysis.ipynb\" target=\"_parent\"><img src=\"https://colab.research.google.com/assets/colab-badge.svg\" alt=\"Open In Colab\"/></a>"
      ]
    },
    {
      "cell_type": "code",
      "metadata": {
        "id": "RkWMpbz_tTfm",
        "colab": {
          "base_uri": "https://localhost:8080/"
        },
        "outputId": "629dd067-d56c-4ffc-cada-e33a9ad5834f"
      },
      "source": [
        "import pandas as pd \n",
        "import numpy as np\n",
        "import matplotlib.pyplot as plt\n",
        "from google.colab import drive\n",
        "drive.mount('/content/drive')"
      ],
      "execution_count": 1,
      "outputs": [
        {
          "output_type": "stream",
          "text": [
            "Mounted at /content/drive\n"
          ],
          "name": "stdout"
        }
      ]
    },
    {
      "cell_type": "code",
      "metadata": {
        "id": "TvdCjqdgtTf1",
        "colab": {
          "base_uri": "https://localhost:8080/",
          "height": 202
        },
        "outputId": "05202ae1-8f0e-40cb-c3f8-da77550824fb"
      },
      "source": [
        "xrd_si_data=pd.read_csv('/content/drive/Shareddrives/nmeshram@mt.iitr.ac.in/XRD_silicon_std_data.csv')\r\n",
        "xrd_si_data.head()"
      ],
      "execution_count": 9,
      "outputs": [
        {
          "output_type": "execute_result",
          "data": {
            "text/html": [
              "<div>\n",
              "<style scoped>\n",
              "    .dataframe tbody tr th:only-of-type {\n",
              "        vertical-align: middle;\n",
              "    }\n",
              "\n",
              "    .dataframe tbody tr th {\n",
              "        vertical-align: top;\n",
              "    }\n",
              "\n",
              "    .dataframe thead th {\n",
              "        text-align: right;\n",
              "    }\n",
              "</style>\n",
              "<table border=\"1\" class=\"dataframe\">\n",
              "  <thead>\n",
              "    <tr style=\"text-align: right;\">\n",
              "      <th></th>\n",
              "      <th>Angle</th>\n",
              "      <th>Intensity</th>\n",
              "    </tr>\n",
              "  </thead>\n",
              "  <tbody>\n",
              "    <tr>\n",
              "      <th>0</th>\n",
              "      <td>30.00</td>\n",
              "      <td>190.0000</td>\n",
              "    </tr>\n",
              "    <tr>\n",
              "      <th>1</th>\n",
              "      <td>30.02</td>\n",
              "      <td>216.6667</td>\n",
              "    </tr>\n",
              "    <tr>\n",
              "      <th>2</th>\n",
              "      <td>30.04</td>\n",
              "      <td>156.0000</td>\n",
              "    </tr>\n",
              "    <tr>\n",
              "      <th>3</th>\n",
              "      <td>30.06</td>\n",
              "      <td>201.3333</td>\n",
              "    </tr>\n",
              "    <tr>\n",
              "      <th>4</th>\n",
              "      <td>30.08</td>\n",
              "      <td>227.6067</td>\n",
              "    </tr>\n",
              "  </tbody>\n",
              "</table>\n",
              "</div>"
            ],
            "text/plain": [
              "   Angle  Intensity\n",
              "0  30.00   190.0000\n",
              "1  30.02   216.6667\n",
              "2  30.04   156.0000\n",
              "3  30.06   201.3333\n",
              "4  30.08   227.6067"
            ]
          },
          "metadata": {
            "tags": []
          },
          "execution_count": 9
        }
      ]
    },
    {
      "cell_type": "code",
      "metadata": {
        "id": "MUx2ibk5tTf2"
      },
      "source": [
        "xrd_test_data=pd.read_csv('/content/drive/Shareddrives/nmeshram@mt.iitr.ac.in/XRD_test_data.csv')"
      ],
      "execution_count": 10,
      "outputs": []
    },
    {
      "cell_type": "code",
      "metadata": {
        "id": "hUkXZso5tTf3",
        "colab": {
          "base_uri": "https://localhost:8080/",
          "height": 202
        },
        "outputId": "150a2da5-aa9d-478b-8369-1b62c1d20427"
      },
      "source": [
        "#Visualize both data sets..\n",
        "\n",
        "xrd_si_data['Angle']=xrd_si_data['Angle']/2\n",
        "xrd_test_data['Angle']=xrd_test_data['Angle']/2\n",
        "xrd_si_data.head()\n"
      ],
      "execution_count": 11,
      "outputs": [
        {
          "output_type": "execute_result",
          "data": {
            "text/html": [
              "<div>\n",
              "<style scoped>\n",
              "    .dataframe tbody tr th:only-of-type {\n",
              "        vertical-align: middle;\n",
              "    }\n",
              "\n",
              "    .dataframe tbody tr th {\n",
              "        vertical-align: top;\n",
              "    }\n",
              "\n",
              "    .dataframe thead th {\n",
              "        text-align: right;\n",
              "    }\n",
              "</style>\n",
              "<table border=\"1\" class=\"dataframe\">\n",
              "  <thead>\n",
              "    <tr style=\"text-align: right;\">\n",
              "      <th></th>\n",
              "      <th>Angle</th>\n",
              "      <th>Intensity</th>\n",
              "    </tr>\n",
              "  </thead>\n",
              "  <tbody>\n",
              "    <tr>\n",
              "      <th>0</th>\n",
              "      <td>15.00</td>\n",
              "      <td>190.0000</td>\n",
              "    </tr>\n",
              "    <tr>\n",
              "      <th>1</th>\n",
              "      <td>15.01</td>\n",
              "      <td>216.6667</td>\n",
              "    </tr>\n",
              "    <tr>\n",
              "      <th>2</th>\n",
              "      <td>15.02</td>\n",
              "      <td>156.0000</td>\n",
              "    </tr>\n",
              "    <tr>\n",
              "      <th>3</th>\n",
              "      <td>15.03</td>\n",
              "      <td>201.3333</td>\n",
              "    </tr>\n",
              "    <tr>\n",
              "      <th>4</th>\n",
              "      <td>15.04</td>\n",
              "      <td>227.6067</td>\n",
              "    </tr>\n",
              "  </tbody>\n",
              "</table>\n",
              "</div>"
            ],
            "text/plain": [
              "   Angle  Intensity\n",
              "0  15.00   190.0000\n",
              "1  15.01   216.6667\n",
              "2  15.02   156.0000\n",
              "3  15.03   201.3333\n",
              "4  15.04   227.6067"
            ]
          },
          "metadata": {
            "tags": []
          },
          "execution_count": 11
        }
      ]
    },
    {
      "cell_type": "code",
      "metadata": {
        "id": "-kS_FbEPtTf6",
        "colab": {
          "base_uri": "https://localhost:8080/",
          "height": 283
        },
        "outputId": "24fa9e04-a51f-45ac-9ce9-7653592a7e89"
      },
      "source": [
        "#Plot intensity vs angle for Si standard data\n",
        "plt.plot('Angle', 'Intensity', data=xrd_si_data)"
      ],
      "execution_count": 12,
      "outputs": [
        {
          "output_type": "execute_result",
          "data": {
            "text/plain": [
              "[<matplotlib.lines.Line2D at 0x7f8c6e7827d0>]"
            ]
          },
          "metadata": {
            "tags": []
          },
          "execution_count": 12
        },
        {
          "output_type": "display_data",
          "data": {
            "image/png": "[encoded data removed]",
            "text/plain": [
              "<Figure size 432x288 with 1 Axes>"
            ]
          },
          "metadata": {
            "tags": [],
            "needs_background": "light"
          }
        }
      ]
    },
    {
      "cell_type": "code",
      "metadata": {
        "id": "RIR0ghvqtTf7",
        "colab": {
          "base_uri": "https://localhost:8080/",
          "height": 283
        },
        "outputId": "843169f3-832b-462b-d386-8cbde831ddcc"
      },
      "source": [
        "#Plot intensity vs angle for test data\n",
        "plt.plot('Angle', 'Intensity', data=xrd_test_data)"
      ],
      "execution_count": 13,
      "outputs": [
        {
          "output_type": "execute_result",
          "data": {
            "text/plain": [
              "[<matplotlib.lines.Line2D at 0x7f8c6e25e890>]"
            ]
          },
          "metadata": {
            "tags": []
          },
          "execution_count": 13
        },
        {
          "output_type": "display_data",
          "data": {
            "image/png": "[encoded data removed]",
            "text/plain": [
              "<Figure size 432x288 with 1 Axes>"
            ]
          },
          "metadata": {
            "tags": [],
            "needs_background": "light"
          }
        }
      ]
    },
    {
      "cell_type": "code",
      "metadata": {
        "id": "OUIUbhc4tTf8"
      },
      "source": [
        "#Identifying peaks in given datasets"
      ],
      "execution_count": 8,
      "outputs": []
    },
    {
      "cell_type": "code",
      "metadata": {
        "id": "BcaNwOqztTf9",
        "colab": {
          "base_uri": "https://localhost:8080/",
          "height": 265
        },
        "outputId": "7724a79f-d399-4205-d4e1-d1cb33606af4"
      },
      "source": [
        "#Peaks in Si standard data\n",
        "from scipy.signal import argrelextrema\n",
        "from scipy.signal import find_peaks\n",
        "x_si = np.array(xrd_si_data['Angle'])\n",
        "y_si = np.array(xrd_si_data['Intensity'])\n",
        "peaks_si, _ = find_peaks(y_si,prominence=200)\n",
        "peak_data_si=pd.DataFrame(columns=['Angle_of_peak','Intensity_of_peak'])\n",
        "peak_data_si['Angle_of_peak']=np.array(x_si[peaks_si])\n",
        "peak_data_si['Intensity_of_peak']=np.array(y_si[peaks_si])\n",
        "# this way the x-axis corresponds to the index of x\n",
        "plt.plot(x_si, y_si)\n",
        "plt.plot(x_si[peaks_si], y_si[peaks_si], \"x\")\n",
        "plt.show()\n",
        "\n",
        "##plot in intensity in log scale as well"
      ],
      "execution_count": 14,
      "outputs": [
        {
          "output_type": "display_data",
          "data": {
            "image/png": "[encoded data removed]",
            "text/plain": [
              "<Figure size 432x288 with 1 Axes>"
            ]
          },
          "metadata": {
            "tags": [],
            "needs_background": "light"
          }
        }
      ]
    },
    {
      "cell_type": "code",
      "metadata": {
        "id": "8Rm3hlfKtTf-",
        "colab": {
          "base_uri": "https://localhost:8080/"
        },
        "outputId": "caf3e115-8378-4249-aaee-658a0af6ee6e"
      },
      "source": [
        "print(peak_data_si)\n"
      ],
      "execution_count": 15,
      "outputs": [
        {
          "output_type": "stream",
          "text": [
            "   Angle_of_peak  Intensity_of_peak\n",
            "0          23.75          10942.010\n",
            "1          28.16           5906.137\n",
            "2          34.66           1423.979\n",
            "3          38.27           2520.595\n",
            "4          44.09           3326.683\n",
            "5          47.54           1746.806\n",
            "6          53.41           1166.121\n",
            "7          57.09           2005.780\n"
          ],
          "name": "stdout"
        }
      ]
    },
    {
      "cell_type": "code",
      "metadata": {
        "id": "OCi93bDctTf_",
        "colab": {
          "base_uri": "https://localhost:8080/",
          "height": 265
        },
        "outputId": "e749948a-8fb3-47a2-e366-dc612ecb511c"
      },
      "source": [
        "#Peaks in test data\r\n",
        "x_test = np.array(xrd_test_data['Angle'])\r\n",
        "y_test = np.array(xrd_test_data['Intensity'])\r\n",
        "peaks_test, _ = find_peaks(y_test,prominence=200)\r\n",
        "peak_data_test=pd.DataFrame(columns=['Angle_of_peak','Intensity_of_peak'])\r\n",
        "peak_data_test['Angle_of_peak']=np.array(x_test[peaks_test])\r\n",
        "peak_data_test['Intensity_of_peak']=np.array(y_test[peaks_test])\r\n",
        "plt.plot(x_test, y_test)\r\n",
        "plt.plot(x_test[peaks_test], y_test[peaks_test], \"x\")\r\n",
        "plt.show()"
      ],
      "execution_count": 16,
      "outputs": [
        {
          "output_type": "display_data",
          "data": {
            "image/png": "[encoded data removed]",
            "text/plain": [
              "<Figure size 432x288 with 1 Axes>"
            ]
          },
          "metadata": {
            "tags": [],
            "needs_background": "light"
          }
        }
      ]
    },
    {
      "cell_type": "code",
      "metadata": {
        "colab": {
          "base_uri": "https://localhost:8080/"
        },
        "id": "UvXRmuYdvBfy",
        "outputId": "fcf7fa39-8c38-495e-fe2a-49b200b67faa"
      },
      "source": [
        "print(peak_data_test)"
      ],
      "execution_count": 17,
      "outputs": [
        {
          "output_type": "stream",
          "text": [
            "   Angle_of_peak  Intensity_of_peak\n",
            "0          19.21          1576.8450\n",
            "1          22.32         14650.8500\n",
            "2          32.52          4764.8990\n",
            "3          39.07          1295.5660\n",
            "4          49.45           526.2841\n",
            "5          55.93           613.9078\n",
            "6          58.17           375.0093\n"
          ],
          "name": "stdout"
        }
      ]
    },
    {
      "cell_type": "code",
      "metadata": {
        "id": "zDDpgYnmvRRo"
      },
      "source": [
        "#FWHMs of all peaks"
      ],
      "execution_count": 13,
      "outputs": []
    },
    {
      "cell_type": "code",
      "metadata": {
        "colab": {
          "base_uri": "https://localhost:8080/",
          "height": 421
        },
        "id": "ia31z591URck",
        "outputId": "cdbfd9c6-afa8-4621-f446-f56bdee9ac66"
      },
      "source": [
        "#for si data\r\n",
        "from scipy.signal import peak_widths\r\n",
        "x_si_indices=[]\r\n",
        "for peak in peak_data_si['Angle_of_peak']:\r\n",
        "  for i in range(len(x_si)):\r\n",
        "    if peak==x_si[i]:\r\n",
        "      x_si_indices.append(i)\r\n",
        "      break\r\n",
        "no_of_indices_si=len(x_si)\r\n",
        "factor_indices_to_degree=120/no_of_indices_si\r\n",
        "fwhm_si_peaks=pd.DataFrame()\r\n",
        "fwhm_si_peaks=peak_data_si\r\n",
        "tmp=peak_widths(y_si,x_si_indices , rel_height=0.5)\r\n",
        "\r\n",
        "fwhm_si_peaks['fwhm']=tmp[0]*factor_indices_to_degree\r\n",
        "print(fwhm_si_peaks)\r\n",
        "\r\n",
        "plt.plot(y_si)\r\n",
        "plt.plot(peaks_si, y_si[x_si_indices], \"x\")\r\n",
        "plt.hlines(*tmp[1:], color=\"C2\")\r\n",
        "plt.show()"
      ],
      "execution_count": 18,
      "outputs": [
        {
          "output_type": "stream",
          "text": [
            "   Angle_of_peak  Intensity_of_peak      fwhm\n",
            "0          23.75          10942.010  0.209542\n",
            "1          28.16           5906.137  0.206717\n",
            "2          34.66           1423.979  0.215254\n",
            "3          38.27           2520.595  0.217731\n",
            "4          44.09           3326.683  0.232608\n",
            "5          47.54           1746.806  0.224442\n",
            "6          53.41           1166.121  0.244283\n",
            "7          57.09           2005.780  0.258253\n"
          ],
          "name": "stdout"
        },
        {
          "output_type": "display_data",
          "data": {
            "image/png": "[encoded data removed]",
            "text/plain": [
              "<Figure size 432x288 with 1 Axes>"
            ]
          },
          "metadata": {
            "tags": [],
            "needs_background": "light"
          }
        }
      ]
    },
    {
      "cell_type": "code",
      "metadata": {
        "colab": {
          "base_uri": "https://localhost:8080/",
          "height": 404
        },
        "id": "aH9Eclopa6Kr",
        "outputId": "7f26ddaf-ee31-433e-b08d-1b4db6f5aedd"
      },
      "source": [
        "#for test data\r\n",
        "import math\r\n",
        "x_test_indices=[]\r\n",
        "for peak in peak_data_test['Angle_of_peak']:\r\n",
        "  for i in range(len(x_test)):\r\n",
        "    if peak==x_test[i]:\r\n",
        "      x_test_indices.append(i)\r\n",
        "      break\r\n",
        "no_of_indices_test=len(x_test)\r\n",
        "factor_indices_to_degree_test=120/no_of_indices_test\r\n",
        "fwhm_test_peaks=pd.DataFrame()\r\n",
        "fwhm_test_peaks=peak_data_test\r\n",
        "tmp=peak_widths(y_test,x_test_indices , rel_height=0.5)\r\n",
        "fwhm_test_peaks['fwhm']=tmp[0]*factor_indices_to_degree_test\r\n",
        "print(fwhm_test_peaks)\r\n",
        "\r\n",
        "plt.plot(y_test)\r\n",
        "plt.plot(peaks_test, y_test[x_test_indices], \"x\")\r\n",
        "plt.hlines(*tmp[1:], color=\"C2\")\r\n",
        "plt.show()"
      ],
      "execution_count": 19,
      "outputs": [
        {
          "output_type": "stream",
          "text": [
            "   Angle_of_peak  Intensity_of_peak      fwhm\n",
            "0          19.21          1576.8450  0.283871\n",
            "1          22.32         14650.8500  0.282274\n",
            "2          32.52          4764.8990  0.357038\n",
            "3          39.07          1295.5660  0.454632\n",
            "4          49.45           526.2841  0.654273\n",
            "5          55.93           613.9078  0.650606\n",
            "6          58.17           375.0093  0.762010\n"
          ],
          "name": "stdout"
        },
        {
          "output_type": "display_data",
          "data": {
            "image/png": "[encoded data removed]",
            "text/plain": [
              "<Figure size 432x288 with 1 Axes>"
            ]
          },
          "metadata": {
            "tags": [],
            "needs_background": "light"
          }
        }
      ]
    },
    {
      "cell_type": "code",
      "metadata": {
        "id": "5LAm16f8ihus"
      },
      "source": [
        "#Plot Williamson-Hall Plot"
      ],
      "execution_count": null,
      "outputs": []
    },
    {
      "cell_type": "code",
      "metadata": {
        "colab": {
          "base_uri": "https://localhost:8080/",
          "height": 577
        },
        "id": "M-nXBZswi6He",
        "outputId": "c1e1aee3-cdc6-4469-e3bb-a35e024c5e4a"
      },
      "source": [
        "#for Si data\r\n",
        "fwhm_si_peaks['fwhm']=fwhm_si_peaks['fwhm']-0.15\r\n",
        "for i in range(len(fwhm_si_peaks['fwhm'])):\r\n",
        "  fwhm_si_peaks.iloc[i,2]=(fwhm_si_peaks.iloc[i,2])*3.14/180\r\n",
        "wh_data_si=pd.DataFrame()\r\n",
        "import math\r\n",
        "wh_x_si=[]\r\n",
        "for i in range(len(fwhm_si_peaks['fwhm'])):\r\n",
        "  wh_x_si.append(math.sin(math.radians(fwhm_si_peaks.iloc[i,0])))\r\n",
        "wh_y_si=[]\r\n",
        "for i in range(len(fwhm_si_peaks['fwhm'])):\r\n",
        "  print(fwhm_si_peaks.iloc[i,0])\r\n",
        "  wh_y_si.append(math.cos(math.radians(fwhm_si_peaks.iloc[i,0]))*fwhm_si_peaks.iloc[i,2])\r\n",
        "wh_data_si['x']=wh_x_si\r\n",
        "wh_data_si['y']=wh_y_si\r\n",
        "print(wh_data_si)\r\n",
        "m, b = np.polyfit(wh_x_si, wh_y_si, 1)\r\n",
        "plt.plot(wh_x_si, wh_y_si, 'o')\r\n",
        "wh_y_si_pred=[]\r\n",
        "for i in range(len(wh_x_si)):\r\n",
        "  wh_y_si_pred.append(m*wh_x_si[i]+b)\r\n",
        "plt.plot(wh_x_si,wh_y_si_pred)\r\n"
      ],
      "execution_count": 20,
      "outputs": [
        {
          "output_type": "stream",
          "text": [
            "23.75\n",
            "28.16\n",
            "34.66\n",
            "38.27\n",
            "44.09\n",
            "47.54\n",
            "53.41\n",
            "57.09\n",
            "          x         y\n",
            "0  0.402747  0.000951\n",
            "1  0.471935  0.000872\n",
            "2  0.568705  0.000936\n",
            "3  0.619368  0.000928\n",
            "4  0.695787  0.001035\n",
            "5  0.737749  0.000877\n",
            "6  0.802922  0.000980\n",
            "7  0.839525  0.001026\n"
          ],
          "name": "stdout"
        },
        {
          "output_type": "execute_result",
          "data": {
            "text/plain": [
              "[<matplotlib.lines.Line2D at 0x7f8c5ef4fad0>]"
            ]
          },
          "metadata": {
            "tags": []
          },
          "execution_count": 20
        },
        {
          "output_type": "display_data",
          "data": {
            "image/png": "[encoded data removed]",
            "text/plain": [
              "<Figure size 432x288 with 1 Axes>"
            ]
          },
          "metadata": {
            "tags": [],
            "needs_background": "light"
          }
        }
      ]
    },
    {
      "cell_type": "code",
      "metadata": {
        "colab": {
          "base_uri": "https://localhost:8080/",
          "height": 543
        },
        "id": "rZFa8ecDuTG6",
        "outputId": "8fb55e0f-f851-44ea-8430-4a5afad311fb"
      },
      "source": [
        "fwhm_test_peaks['fwhm']=fwhm_test_peaks['fwhm']-0.15\r\n",
        "for i in range(len(fwhm_test_peaks['fwhm'])):\r\n",
        "  fwhm_test_peaks.iloc[i,2]=(fwhm_test_peaks.iloc[i,2])*3.14/180\r\n",
        "wh_data_test=pd.DataFrame()\r\n",
        "import math\r\n",
        "wh_x_test=[]\r\n",
        "for i in range(len(fwhm_test_peaks['fwhm'])):\r\n",
        "  wh_x_test.append(math.sin(math.radians(fwhm_test_peaks.iloc[i,0])))\r\n",
        "wh_y_test=[]\r\n",
        "for i in range(len(fwhm_test_peaks['fwhm'])):\r\n",
        "  print(fwhm_test_peaks.iloc[i,0])\r\n",
        "  wh_y_test.append(math.cos(math.radians(fwhm_test_peaks.iloc[i,0]))*fwhm_test_peaks.iloc[i,2])\r\n",
        "wh_data_test['x']=wh_x_test\r\n",
        "wh_data_test['y']=wh_y_test\r\n",
        "print(wh_data_test)\r\n",
        "m1, b1 = np.polyfit(wh_x_test, wh_y_test, 1)\r\n",
        "plt.plot(wh_x_test, wh_y_test, 'o')\r\n",
        "wh_y_test_pred=[]\r\n",
        "for i in range(len(wh_x_test)):\r\n",
        "  wh_y_test_pred.append(m1*wh_x_test[i]+b1)\r\n",
        "plt.plot(wh_x_test,wh_y_test_pred)"
      ],
      "execution_count": 21,
      "outputs": [
        {
          "output_type": "stream",
          "text": [
            "19.21\n",
            "22.32\n",
            "32.52\n",
            "39.07\n",
            "49.45\n",
            "55.93\n",
            "58.17\n",
            "          x         y\n",
            "0  0.329031  0.002205\n",
            "1  0.379779  0.002135\n",
            "2  0.537594  0.003045\n",
            "3  0.630269  0.004126\n",
            "4  0.759839  0.005719\n",
            "5  0.828354  0.004892\n",
            "6  0.849617  0.005631\n"
          ],
          "name": "stdout"
        },
        {
          "output_type": "execute_result",
          "data": {
            "text/plain": [
              "[<matplotlib.lines.Line2D at 0x7f8c5ee133d0>]"
            ]
          },
          "metadata": {
            "tags": []
          },
          "execution_count": 21
        },
        {
          "output_type": "display_data",
          "data": {
            "image/png": "[encoded data removed]",
            "text/plain": [
              "<Figure size 432x288 with 1 Axes>"
            ]
          },
          "metadata": {
            "tags": [],
            "needs_background": "light"
          }
        }
      ]
    },
    {
      "cell_type": "code",
      "metadata": {
        "id": "_mYffrJkB9sc"
      },
      "source": [
        ""
      ],
      "execution_count": null,
      "outputs": []
    },
    {
      "cell_type": "code",
      "metadata": {
        "id": "n05q5cjBtTgA"
      },
      "source": [
        ""
      ],
      "execution_count": null,
      "outputs": []
    },
    {
      "cell_type": "code",
      "metadata": {
        "id": "3kBtjztP_-O_"
      },
      "source": [
        ""
      ],
      "execution_count": null,
      "outputs": []
    },
    {
      "cell_type": "code",
      "metadata": {
        "id": "mwOKDa-0GVTq"
      },
      "source": [
        ""
      ],
      "execution_count": null,
      "outputs": []
    },
    {
      "cell_type": "code",
      "metadata": {
        "id": "TN7p_3UwGYG-"
      },
      "source": [
        ""
      ],
      "execution_count": null,
      "outputs": []
    }
  ]
}