{
  "nbformat": 4,
  "nbformat_minor": 0,
  "metadata": {
    "kernelspec": {
      "display_name": "Python 3",
      "language": "python",
      "name": "python3"
    },
    "language_info": {
      "codemirror_mode": {
        "name": "ipython",
        "version": 3
      },
      "file_extension": ".py",
      "mimetype": "text/x-python",
      "name": "python",
      "nbconvert_exporter": "python",
      "pygments_lexer": "ipython3",
      "version": "3.8.3"
    },
    "colab": {
      "name": "XRD_analysis.ipynb",
      "provenance": [],
      "collapsed_sections": [],
      "include_colab_link": true
    }
  },
  "cells": [
    {
      "cell_type": "markdown",
      "metadata": {
        "id": "view-in-github",
        "colab_type": "text"
      },
      "source": [
        "<a href=\"https://colab.research.google.com/github/mahimathakkar/X-ray-diffraction-patterns-for-line-profile-analysis/blob/main/XRD_analysis.ipynb\" target=\"_parent\"><img src=\"https://colab.research.google.com/assets/colab-badge.svg\" alt=\"Open In Colab\"/></a>"
      ]
    },
    {
      "cell_type": "code",
      "metadata": {
        "id": "RkWMpbz_tTfm",
        "colab": {
          "base_uri": "https://localhost:8080/"
        },
        "outputId": "b41d550d-0664-4173-fe59-a93613b1f792"
      },
      "source": [
        "import pandas as pd \n",
        "import numpy as np\n",
        "import matplotlib.pyplot as plt\n",
        "from google.colab import drive\n",
        "drive.mount('/content/drive')"
      ],
      "execution_count": 1,
      "outputs": [
        {
          "output_type": "stream",
          "text": [
            "Mounted at /content/drive\n"
          ],
          "name": "stdout"
        }
      ]
    },
    {
      "cell_type": "code",
      "metadata": {
        "id": "TvdCjqdgtTf1"
      },
      "source": [
        "xrd_si_data=pd.read_csv('/content/drive/Shareddrives/nmeshram@mt.iitr.ac.in/XRD_silicon_std_data.csv')"
      ],
      "execution_count": 2,
      "outputs": []
    },
    {
      "cell_type": "code",
      "metadata": {
        "id": "MUx2ibk5tTf2"
      },
      "source": [
        "xrd_test_data=pd.read_csv('/content/drive/Shareddrives/nmeshram@mt.iitr.ac.in/XRD_test_data.csv')"
      ],
      "execution_count": 3,
      "outputs": []
    },
    {
      "cell_type": "code",
      "metadata": {
        "id": "hUkXZso5tTf3",
        "colab": {
          "base_uri": "https://localhost:8080/",
          "height": 202
        },
        "outputId": "92dbf5d0-12d3-45b7-a1ca-9a03dad2d47c"
      },
      "source": [
        "#Visualize both data sets..\n",
        "xrd_si_data.head()"
      ],
      "execution_count": 4,
      "outputs": [
        {
          "output_type": "execute_result",
          "data": {
            "text/html": [
              "<div>\n",
              "<style scoped>\n",
              "    .dataframe tbody tr th:only-of-type {\n",
              "        vertical-align: middle;\n",
              "    }\n",
              "\n",
              "    .dataframe tbody tr th {\n",
              "        vertical-align: top;\n",
              "    }\n",
              "\n",
              "    .dataframe thead th {\n",
              "        text-align: right;\n",
              "    }\n",
              "</style>\n",
              "<table border=\"1\" class=\"dataframe\">\n",
              "  <thead>\n",
              "    <tr style=\"text-align: right;\">\n",
              "      <th></th>\n",
              "      <th>Angle</th>\n",
              "      <th>Intensity</th>\n",
              "    </tr>\n",
              "  </thead>\n",
              "  <tbody>\n",
              "    <tr>\n",
              "      <th>0</th>\n",
              "      <td>30.00</td>\n",
              "      <td>190.0000</td>\n",
              "    </tr>\n",
              "    <tr>\n",
              "      <th>1</th>\n",
              "      <td>30.02</td>\n",
              "      <td>216.6667</td>\n",
              "    </tr>\n",
              "    <tr>\n",
              "      <th>2</th>\n",
              "      <td>30.04</td>\n",
              "      <td>156.0000</td>\n",
              "    </tr>\n",
              "    <tr>\n",
              "      <th>3</th>\n",
              "      <td>30.06</td>\n",
              "      <td>201.3333</td>\n",
              "    </tr>\n",
              "    <tr>\n",
              "      <th>4</th>\n",
              "      <td>30.08</td>\n",
              "      <td>227.6067</td>\n",
              "    </tr>\n",
              "  </tbody>\n",
              "</table>\n",
              "</div>"
            ],
            "text/plain": [
              "   Angle  Intensity\n",
              "0  30.00   190.0000\n",
              "1  30.02   216.6667\n",
              "2  30.04   156.0000\n",
              "3  30.06   201.3333\n",
              "4  30.08   227.6067"
            ]
          },
          "metadata": {
            "tags": []
          },
          "execution_count": 4
        }
      ]
    },
    {
      "cell_type": "code",
      "metadata": {
        "id": "-kS_FbEPtTf6",
        "colab": {
          "base_uri": "https://localhost:8080/",
          "height": 283
        },
        "outputId": "d1a161ca-ce2d-4213-f954-1ccd94f39e14"
      },
      "source": [
        "#Plot intensity vs angle for Si standard data\n",
        "plt.plot('Angle', 'Intensity', data=xrd_si_data)"
      ],
      "execution_count": 5,
      "outputs": [
        {
          "output_type": "execute_result",
          "data": {
            "text/plain": [
              "[<matplotlib.lines.Line2D at 0x7fd09c812f98>]"
            ]
          },
          "metadata": {
            "tags": []
          },
          "execution_count": 5
        },
        {
          "output_type": "display_data",
          "data": {
            "image/png": "[encoded data removed]",
            "text/plain": [
              "<Figure size 432x288 with 1 Axes>"
            ]
          },
          "metadata": {
            "tags": [],
            "needs_background": "light"
          }
        }
      ]
    },
    {
      "cell_type": "code",
      "metadata": {
        "id": "RIR0ghvqtTf7",
        "colab": {
          "base_uri": "https://localhost:8080/",
          "height": 283
        },
        "outputId": "cb7b508d-e42c-4772-8567-1b4a97046cbc"
      },
      "source": [
        "#Plot intensity vs angle for test data\n",
        "plt.plot('Angle', 'Intensity', data=xrd_test_data)"
      ],
      "execution_count": 6,
      "outputs": [
        {
          "output_type": "execute_result",
          "data": {
            "text/plain": [
              "[<matplotlib.lines.Line2D at 0x7fd09c79f0f0>]"
            ]
          },
          "metadata": {
            "tags": []
          },
          "execution_count": 6
        },
        {
          "output_type": "display_data",
          "data": {
            "image/png": "[encoded data removed]",
            "text/plain": [
              "<Figure size 432x288 with 1 Axes>"
            ]
          },
          "metadata": {
            "tags": [],
            "needs_background": "light"
          }
        }
      ]
    },
    {
      "cell_type": "code",
      "metadata": {
        "id": "OUIUbhc4tTf8"
      },
      "source": [
        "#Identifying peaks in given datasets"
      ],
      "execution_count": 7,
      "outputs": []
    },
    {
      "cell_type": "code",
      "metadata": {
        "id": "BcaNwOqztTf9",
        "colab": {
          "base_uri": "https://localhost:8080/",
          "height": 265
        },
        "outputId": "b01f3476-c81b-4db4-e5b8-d361e59ec7e8"
      },
      "source": [
        "#Peaks in Si standard data\n",
        "from scipy.signal import argrelextrema\n",
        "from scipy.signal import find_peaks\n",
        "x_si = np.array(xrd_si_data['Angle'])\n",
        "y_si = np.array(xrd_si_data['Intensity'])\n",
        "peaks_si, _ = find_peaks(y_si,prominence=200)\n",
        "peak_data_si=pd.DataFrame(columns=['Angle_of_peak','Intensity_of_peak'])\n",
        "peak_data_si['Angle_of_peak']=np.array(x_si[peaks_si])\n",
        "peak_data_si['Intensity_of_peak']=np.array(y_si[peaks_si])\n",
        "# this way the x-axis corresponds to the index of x\n",
        "plt.plot(x_si, y_si)\n",
        "plt.plot(x_si[peaks_si], y_si[peaks_si], \"x\")\n",
        "plt.show()\n",
        "\n",
        "##plot in intensity in log scale as well"
      ],
      "execution_count": 8,
      "outputs": [
        {
          "output_type": "display_data",
          "data": {
            "image/png": "[encoded data removed]",
            "text/plain": [
              "<Figure size 432x288 with 1 Axes>"
            ]
          },
          "metadata": {
            "tags": [],
            "needs_background": "light"
          }
        }
      ]
    },
    {
      "cell_type": "code",
      "metadata": {
        "id": "8Rm3hlfKtTf-",
        "colab": {
          "base_uri": "https://localhost:8080/"
        },
        "outputId": "7e572ee5-4683-46be-8124-26e9a072c914"
      },
      "source": [
        "print(peak_data_si)\n"
      ],
      "execution_count": 9,
      "outputs": [
        {
          "output_type": "stream",
          "text": [
            "   Angle_of_peak  Intensity_of_peak\n",
            "0          47.50          10942.010\n",
            "1          56.32           5906.137\n",
            "2          69.32           1423.979\n",
            "3          76.54           2520.595\n",
            "4          88.18           3326.683\n",
            "5          95.08           1746.806\n",
            "6         106.82           1166.121\n",
            "7         114.18           2005.780\n"
          ],
          "name": "stdout"
        }
      ]
    },
    {
      "cell_type": "code",
      "metadata": {
        "id": "OCi93bDctTf_",
        "colab": {
          "base_uri": "https://localhost:8080/",
          "height": 265
        },
        "outputId": "e8dae84a-701f-49ca-837f-a15d9e4cc284"
      },
      "source": [
        "#Peaks in test data\r\n",
        "x_test = np.array(xrd_test_data['Angle'])\r\n",
        "y_test = np.array(xrd_test_data['Intensity'])\r\n",
        "peaks_test, _ = find_peaks(y_test,prominence=200)\r\n",
        "peak_data_test=pd.DataFrame(columns=['Angle_of_peak','Intensity_of_peak'])\r\n",
        "peak_data_test['Angle_of_peak']=np.array(x_test[peaks_test])\r\n",
        "peak_data_test['Intensity_of_peak']=np.array(y_test[peaks_test])\r\n",
        "plt.plot(x_test, y_test)\r\n",
        "plt.plot(x_test[peaks_test], y_test[peaks_test], \"x\")\r\n",
        "plt.show()"
      ],
      "execution_count": 10,
      "outputs": [
        {
          "output_type": "display_data",
          "data": {
            "image/png": "[encoded data removed]",
            "text/plain": [
              "<Figure size 432x288 with 1 Axes>"
            ]
          },
          "metadata": {
            "tags": [],
            "needs_background": "light"
          }
        }
      ]
    },
    {
      "cell_type": "code",
      "metadata": {
        "colab": {
          "base_uri": "https://localhost:8080/"
        },
        "id": "UvXRmuYdvBfy",
        "outputId": "469e3eff-6fab-4607-c5dc-d0dabe79367f"
      },
      "source": [
        "print(peak_data_test)"
      ],
      "execution_count": 11,
      "outputs": [
        {
          "output_type": "stream",
          "text": [
            "   Angle_of_peak  Intensity_of_peak\n",
            "0          38.42          1576.8450\n",
            "1          44.64         14650.8500\n",
            "2          65.04          4764.8990\n",
            "3          78.14          1295.5660\n",
            "4          98.90           526.2841\n",
            "5         111.86           613.9078\n",
            "6         116.34           375.0093\n"
          ],
          "name": "stdout"
        }
      ]
    },
    {
      "cell_type": "code",
      "metadata": {
        "id": "zDDpgYnmvRRo"
      },
      "source": [
        "#FWHMs of all peaks"
      ],
      "execution_count": 12,
      "outputs": []
    },
    {
      "cell_type": "code",
      "metadata": {
        "colab": {
          "base_uri": "https://localhost:8080/",
          "height": 421
        },
        "id": "ia31z591URck",
        "outputId": "e272a149-15cd-422e-bedf-83fe461766fc"
      },
      "source": [
        "#for si data\r\n",
        "from scipy.signal import peak_widths\r\n",
        "x_si_indices=[]\r\n",
        "for peak in peak_data_si['Angle_of_peak']:\r\n",
        "  for i in range(len(x_si)):\r\n",
        "    if peak==x_si[i]:\r\n",
        "      x_si_indices.append(i)\r\n",
        "      break\r\n",
        "no_of_indices_si=len(x_si)\r\n",
        "factor_indices_to_degree=120/no_of_indices_si\r\n",
        "fwhm_si_peaks=pd.DataFrame()\r\n",
        "fwhm_si_peaks=peak_data_si\r\n",
        "tmp=peak_widths(y_si,x_si_indices , rel_height=0.5)\r\n",
        "\r\n",
        "fwhm_si_peaks['fwhm']=tmp[0]*factor_indices_to_degree\r\n",
        "print(fwhm_si_peaks)\r\n",
        "\r\n",
        "plt.plot(y_si)\r\n",
        "plt.plot(peaks_si, y_si[x_si_indices], \"x\")\r\n",
        "plt.hlines(*tmp[1:], color=\"C2\")\r\n",
        "plt.show()"
      ],
      "execution_count": 33,
      "outputs": [
        {
          "output_type": "stream",
          "text": [
            "   Angle_of_peak  Intensity_of_peak      fwhm\n",
            "0          47.50          10942.010  0.209542\n",
            "1          56.32           5906.137  0.206717\n",
            "2          69.32           1423.979  0.215254\n",
            "3          76.54           2520.595  0.217731\n",
            "4          88.18           3326.683  0.232608\n",
            "5          95.08           1746.806  0.224442\n",
            "6         106.82           1166.121  0.244283\n",
            "7         114.18           2005.780  0.258253\n"
          ],
          "name": "stdout"
        },
        {
          "output_type": "display_data",
          "data": {
            "image/png": "[encoded data removed]",
            "text/plain": [
              "<Figure size 432x288 with 1 Axes>"
            ]
          },
          "metadata": {
            "tags": [],
            "needs_background": "light"
          }
        }
      ]
    },
    {
      "cell_type": "code",
      "metadata": {
        "colab": {
          "base_uri": "https://localhost:8080/"
        },
        "id": "aH9Eclopa6Kr",
        "outputId": "de473eb7-9956-443d-fe01-d9ce59056b3d"
      },
      "source": [
        "#for test data\r\n",
        "x_test_indices=[]\r\n",
        "for peak in peak_data_test['Angle_of_peak']:\r\n",
        "  for i in range(len(x_test)):\r\n",
        "    if peak==x_test[i]:\r\n",
        "      x_test_indices.append(i)\r\n",
        "      break\r\n",
        "no_of_indices_test=len(x_test)\r\n",
        "factor_indices_to_degree_test=120/no_of_indices_test\r\n",
        "fwhm_test_peaks=pd.DataFrame()\r\n",
        "fwhm_test_peaks=peak_data_test\r\n",
        "tmp=peak_widths(y_test,x_test_indices , rel_height=0.5)\r\n",
        "fwhm_test_peaks['fwhm']=tmp[0]*factor_indices_to_degree_test\r\n",
        "print(fwhm_test_peaks)\r\n",
        "\r\n",
        "print(math.sin(math.degrees(fwhm_test_peaks.iloc[6,0])))"
      ],
      "execution_count": 40,
      "outputs": [
        {
          "output_type": "stream",
          "text": [
            "   Angle_of_peak  Intensity_of_peak      fwhm\n",
            "0          38.42          1576.8450  0.283871\n",
            "1          44.64         14650.8500  0.282274\n",
            "2          65.04          4764.8990  0.357038\n",
            "3          78.14          1295.5660  0.454632\n",
            "4          98.90           526.2841  0.654273\n",
            "5         111.86           613.9078  0.650606\n",
            "6         116.34           375.0093  0.762010\n",
            "-0.6199055783662921\n"
          ],
          "name": "stdout"
        }
      ]
    },
    {
      "cell_type": "code",
      "metadata": {
        "id": "5LAm16f8ihus"
      },
      "source": [
        "#Plot Williamson-Hall Plot"
      ],
      "execution_count": null,
      "outputs": []
    },
    {
      "cell_type": "code",
      "metadata": {
        "colab": {
          "base_uri": "https://localhost:8080/",
          "height": 577
        },
        "id": "M-nXBZswi6He",
        "outputId": "fe3d850a-3263-4944-d92a-79583c45e568"
      },
      "source": [
        "#for Si data\r\n",
        "fwhm_si_peaks['fwhm']=fwhm_si_peaks['fwhm']-0.15\r\n",
        "\r\n",
        "wh_data_si=pd.DataFrame()\r\n",
        "import math\r\n",
        "wh_x_si=[]\r\n",
        "for i in range(len(fwhm_si_peaks['fwhm'])):\r\n",
        "  wh_x_si.append(math.sin(math.radians(fwhm_si_peaks.iloc[i,0])))\r\n",
        "wh_y_si=[]\r\n",
        "for i in range(len(fwhm_si_peaks['fwhm'])):\r\n",
        "  print(fwhm_si_peaks.iloc[i,0])\r\n",
        "  wh_y_si.append(math.cos(math.radians(fwhm_si_peaks.iloc[i,0]))*fwhm_si_peaks.iloc[i,2])\r\n",
        "wh_data_si['x']=wh_x_si\r\n",
        "wh_data_si['y']=wh_y_si\r\n",
        "print(wh_data_si)\r\n",
        "m, b = np.polyfit(wh_x_si, wh_y_si, 1)\r\n",
        "plt.plot(wh_x_si, wh_y_si, 'o')\r\n",
        "wh_y_si_pred=[]\r\n",
        "for i in range(len(wh_x_si)):\r\n",
        "  wh_y_si_pred.append(m*wh_x_si[i]+b)\r\n",
        "plt.plot(wh_x_si,wh_y_si_pred)\r\n"
      ],
      "execution_count": 66,
      "outputs": [
        {
          "output_type": "stream",
          "text": [
            "47.5\n",
            "56.32\n",
            "69.32\n",
            "76.54\n",
            "88.18\n",
            "95.08\n",
            "106.82\n",
            "114.18\n",
            "          x         y\n",
            "0  0.737277 -1.074498\n",
            "1  0.832148 -0.883561\n",
            "2  0.935567 -0.559650\n",
            "3  0.972533 -0.368299\n",
            "4  0.999496 -0.049780\n",
            "5  0.996072  0.139510\n",
            "6  0.957219  0.450171\n",
            "7  0.912263  0.631507\n"
          ],
          "name": "stdout"
        },
        {
          "output_type": "execute_result",
          "data": {
            "text/plain": [
              "[<matplotlib.lines.Line2D at 0x7fd0837c5eb8>]"
            ]
          },
          "metadata": {
            "tags": []
          },
          "execution_count": 66
        },
        {
          "output_type": "display_data",
          "data": {
            "image/png": "[encoded data removed]",
            "text/plain": [
              "<Figure size 432x288 with 1 Axes>"
            ]
          },
          "metadata": {
            "tags": [],
            "needs_background": "light"
          }
        }
      ]
    },
    {
      "cell_type": "code",
      "metadata": {
        "id": "_mYffrJkB9sc"
      },
      "source": [
        "lamda=float(lamda)\r\n",
        "E=float(E)\r\n",
        "L=float(L)\r\n",
        "k=float(k)"
      ],
      "execution_count": null,
      "outputs": []
    },
    {
      "cell_type": "code",
      "metadata": {
        "id": "n05q5cjBtTgA"
      },
      "source": [
        "results_fwhm_xrd_si_data=xrd_si_data.copy()\r\n",
        "tmp=[]\r\n",
        "for val in range(len(results_fwhm_xrd_si_data['Angle'])):\r\n",
        "  tmp.append(math.cos(math.radians(results_fwhm_xrd_si_data.iloc[val,0])))\r\n"
      ],
      "execution_count": null,
      "outputs": []
    },
    {
      "cell_type": "code",
      "metadata": {
        "id": "3kBtjztP_-O_"
      },
      "source": [
        "import math\r\n",
        "results_fwhm_xrd_si_data['fwhm']=np.nan\r\n",
        "for val in range(len(results_fwhm_xrd_si_data['Angle'])):\r\n",
        "  results_fwhm_xrd_si_data.iloc[val,2]=(k*lamda)/(L*(math.cos(math.radians(xrd_si_data.iloc[val,0])))) + 4*E*(math.tan(math.radians(xrd_si_data.iloc[val,0])))"
      ],
      "execution_count": null,
      "outputs": []
    },
    {
      "cell_type": "code",
      "metadata": {
        "colab": {
          "base_uri": "https://localhost:8080/",
          "height": 202
        },
        "id": "mwOKDa-0GVTq",
        "outputId": "3739f3d4-ae76-412b-ae94-cacb1765faef"
      },
      "source": [
        "results_fwhm_xrd_si_data.head()"
      ],
      "execution_count": null,
      "outputs": [
        {
          "output_type": "execute_result",
          "data": {
            "text/html": [
              "<div>\n",
              "<style scoped>\n",
              "    .dataframe tbody tr th:only-of-type {\n",
              "        vertical-align: middle;\n",
              "    }\n",
              "\n",
              "    .dataframe tbody tr th {\n",
              "        vertical-align: top;\n",
              "    }\n",
              "\n",
              "    .dataframe thead th {\n",
              "        text-align: right;\n",
              "    }\n",
              "</style>\n",
              "<table border=\"1\" class=\"dataframe\">\n",
              "  <thead>\n",
              "    <tr style=\"text-align: right;\">\n",
              "      <th></th>\n",
              "      <th>Angle</th>\n",
              "      <th>Intensity</th>\n",
              "      <th>fwhm</th>\n",
              "    </tr>\n",
              "  </thead>\n",
              "  <tbody>\n",
              "    <tr>\n",
              "      <th>0</th>\n",
              "      <td>30.00</td>\n",
              "      <td>190.0000</td>\n",
              "      <td>1.602724</td>\n",
              "    </tr>\n",
              "    <tr>\n",
              "      <th>1</th>\n",
              "      <td>30.02</td>\n",
              "      <td>216.6667</td>\n",
              "      <td>1.603049</td>\n",
              "    </tr>\n",
              "    <tr>\n",
              "      <th>2</th>\n",
              "      <td>30.04</td>\n",
              "      <td>156.0000</td>\n",
              "      <td>1.603374</td>\n",
              "    </tr>\n",
              "    <tr>\n",
              "      <th>3</th>\n",
              "      <td>30.06</td>\n",
              "      <td>201.3333</td>\n",
              "      <td>1.603699</td>\n",
              "    </tr>\n",
              "    <tr>\n",
              "      <th>4</th>\n",
              "      <td>30.08</td>\n",
              "      <td>227.6067</td>\n",
              "      <td>1.604025</td>\n",
              "    </tr>\n",
              "  </tbody>\n",
              "</table>\n",
              "</div>"
            ],
            "text/plain": [
              "   Angle  Intensity      fwhm\n",
              "0  30.00   190.0000  1.602724\n",
              "1  30.02   216.6667  1.603049\n",
              "2  30.04   156.0000  1.603374\n",
              "3  30.06   201.3333  1.603699\n",
              "4  30.08   227.6067  1.604025"
            ]
          },
          "metadata": {
            "tags": []
          },
          "execution_count": 48
        }
      ]
    },
    {
      "cell_type": "code",
      "metadata": {
        "id": "TN7p_3UwGYG-"
      },
      "source": [
        ""
      ],
      "execution_count": null,
      "outputs": []
    }
  ]
}