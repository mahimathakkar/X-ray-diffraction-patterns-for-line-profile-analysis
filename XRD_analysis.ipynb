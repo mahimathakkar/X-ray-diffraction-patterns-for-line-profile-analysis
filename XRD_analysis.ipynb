{
  "nbformat": 4,
  "nbformat_minor": 0,
  "metadata": {
    "kernelspec": {
      "display_name": "Python 3",
      "language": "python",
      "name": "python3"
    },
    "language_info": {
      "codemirror_mode": {
        "name": "ipython",
        "version": 3
      },
      "file_extension": ".py",
      "mimetype": "text/x-python",
      "name": "python",
      "nbconvert_exporter": "python",
      "pygments_lexer": "ipython3",
      "version": "3.8.3"
    },
    "colab": {
      "name": "XRD_analysis.ipynb",
      "provenance": [],
      "collapsed_sections": [],
      "include_colab_link": true
    }
  },
  "cells": [
    {
      "cell_type": "markdown",
      "metadata": {
        "id": "view-in-github",
        "colab_type": "text"
      },
      "source": [
        "<a href=\"https://colab.research.google.com/github/mahimathakkar/X-ray-diffraction-patterns-for-line-profile-analysis/blob/main/XRD_analysis.ipynb\" target=\"_parent\"><img src=\"https://colab.research.google.com/assets/colab-badge.svg\" alt=\"Open In Colab\"/></a>"
      ]
    },
    {
      "cell_type": "code",
      "metadata": {
        "id": "RkWMpbz_tTfm",
        "colab": {
          "base_uri": "https://localhost:8080/"
        },
        "outputId": "629dd067-d56c-4ffc-cada-e33a9ad5834f"
      },
      "source": [
        "import pandas as pd \n",
        "import numpy as np\n",
        "import matplotlib.pyplot as plt\n",
        "from google.colab import drive\n",
        "drive.mount('/content/drive')"
      ],
      "execution_count": 1,
      "outputs": [
        {
          "output_type": "stream",
          "text": [
            "Mounted at /content/drive\n"
          ],
          "name": "stdout"
        }
      ]
    },
    {
      "cell_type": "code",
      "metadata": {
        "id": "TvdCjqdgtTf1",
        "colab": {
          "base_uri": "https://localhost:8080/",
          "height": 202
        },
        "outputId": "50739447-97e8-4507-9959-a71d35de56ad"
      },
      "source": [
        "xrd_si_data=pd.read_csv('/content/drive/Shareddrives/nmeshram@mt.iitr.ac.in/XRD_silicon_std_data.csv')\r\n",
        "xrd_si_data.head()"
      ],
      "execution_count": 220,
      "outputs": [
        {
          "output_type": "execute_result",
          "data": {
            "text/html": [
              "<div>\n",
              "<style scoped>\n",
              "    .dataframe tbody tr th:only-of-type {\n",
              "        vertical-align: middle;\n",
              "    }\n",
              "\n",
              "    .dataframe tbody tr th {\n",
              "        vertical-align: top;\n",
              "    }\n",
              "\n",
              "    .dataframe thead th {\n",
              "        text-align: right;\n",
              "    }\n",
              "</style>\n",
              "<table border=\"1\" class=\"dataframe\">\n",
              "  <thead>\n",
              "    <tr style=\"text-align: right;\">\n",
              "      <th></th>\n",
              "      <th>Angle</th>\n",
              "      <th>Intensity</th>\n",
              "    </tr>\n",
              "  </thead>\n",
              "  <tbody>\n",
              "    <tr>\n",
              "      <th>0</th>\n",
              "      <td>30.00</td>\n",
              "      <td>190.0000</td>\n",
              "    </tr>\n",
              "    <tr>\n",
              "      <th>1</th>\n",
              "      <td>30.02</td>\n",
              "      <td>216.6667</td>\n",
              "    </tr>\n",
              "    <tr>\n",
              "      <th>2</th>\n",
              "      <td>30.04</td>\n",
              "      <td>156.0000</td>\n",
              "    </tr>\n",
              "    <tr>\n",
              "      <th>3</th>\n",
              "      <td>30.06</td>\n",
              "      <td>201.3333</td>\n",
              "    </tr>\n",
              "    <tr>\n",
              "      <th>4</th>\n",
              "      <td>30.08</td>\n",
              "      <td>227.6067</td>\n",
              "    </tr>\n",
              "  </tbody>\n",
              "</table>\n",
              "</div>"
            ],
            "text/plain": [
              "   Angle  Intensity\n",
              "0  30.00   190.0000\n",
              "1  30.02   216.6667\n",
              "2  30.04   156.0000\n",
              "3  30.06   201.3333\n",
              "4  30.08   227.6067"
            ]
          },
          "metadata": {
            "tags": []
          },
          "execution_count": 220
        }
      ]
    },
    {
      "cell_type": "code",
      "metadata": {
        "id": "MUx2ibk5tTf2"
      },
      "source": [
        "xrd_test_data=pd.read_csv('/content/drive/Shareddrives/nmeshram@mt.iitr.ac.in/XRD_test_data.csv')"
      ],
      "execution_count": 221,
      "outputs": []
    },
    {
      "cell_type": "code",
      "metadata": {
        "id": "hUkXZso5tTf3",
        "colab": {
          "base_uri": "https://localhost:8080/",
          "height": 202
        },
        "outputId": "36943d7e-f4df-4d3a-da7b-6b40807f51fd"
      },
      "source": [
        "#Visualize both data sets..\n",
        "xrd_si_data.head()\n"
      ],
      "execution_count": 222,
      "outputs": [
        {
          "output_type": "execute_result",
          "data": {
            "text/html": [
              "<div>\n",
              "<style scoped>\n",
              "    .dataframe tbody tr th:only-of-type {\n",
              "        vertical-align: middle;\n",
              "    }\n",
              "\n",
              "    .dataframe tbody tr th {\n",
              "        vertical-align: top;\n",
              "    }\n",
              "\n",
              "    .dataframe thead th {\n",
              "        text-align: right;\n",
              "    }\n",
              "</style>\n",
              "<table border=\"1\" class=\"dataframe\">\n",
              "  <thead>\n",
              "    <tr style=\"text-align: right;\">\n",
              "      <th></th>\n",
              "      <th>Angle</th>\n",
              "      <th>Intensity</th>\n",
              "    </tr>\n",
              "  </thead>\n",
              "  <tbody>\n",
              "    <tr>\n",
              "      <th>0</th>\n",
              "      <td>30.00</td>\n",
              "      <td>190.0000</td>\n",
              "    </tr>\n",
              "    <tr>\n",
              "      <th>1</th>\n",
              "      <td>30.02</td>\n",
              "      <td>216.6667</td>\n",
              "    </tr>\n",
              "    <tr>\n",
              "      <th>2</th>\n",
              "      <td>30.04</td>\n",
              "      <td>156.0000</td>\n",
              "    </tr>\n",
              "    <tr>\n",
              "      <th>3</th>\n",
              "      <td>30.06</td>\n",
              "      <td>201.3333</td>\n",
              "    </tr>\n",
              "    <tr>\n",
              "      <th>4</th>\n",
              "      <td>30.08</td>\n",
              "      <td>227.6067</td>\n",
              "    </tr>\n",
              "  </tbody>\n",
              "</table>\n",
              "</div>"
            ],
            "text/plain": [
              "   Angle  Intensity\n",
              "0  30.00   190.0000\n",
              "1  30.02   216.6667\n",
              "2  30.04   156.0000\n",
              "3  30.06   201.3333\n",
              "4  30.08   227.6067"
            ]
          },
          "metadata": {
            "tags": []
          },
          "execution_count": 222
        }
      ]
    },
    {
      "cell_type": "code",
      "metadata": {
        "id": "-kS_FbEPtTf6",
        "colab": {
          "base_uri": "https://localhost:8080/",
          "height": 283
        },
        "outputId": "af5f074f-ca69-4572-daf7-c27337365aa4"
      },
      "source": [
        "#Plot intensity vs angle for Si standard data\n",
        "plt.plot('Angle', 'Intensity', data=xrd_si_data)"
      ],
      "execution_count": 223,
      "outputs": [
        {
          "output_type": "execute_result",
          "data": {
            "text/plain": [
              "[<matplotlib.lines.Line2D at 0x7f8c5d553450>]"
            ]
          },
          "metadata": {
            "tags": []
          },
          "execution_count": 223
        },
        {
          "output_type": "display_data",
          "data": {
            "image/png": "[encoded data removed]",
            "text/plain": [
              "<Figure size 432x288 with 1 Axes>"
            ]
          },
          "metadata": {
            "tags": [],
            "needs_background": "light"
          }
        }
      ]
    },
    {
      "cell_type": "code",
      "metadata": {
        "id": "RIR0ghvqtTf7",
        "colab": {
          "base_uri": "https://localhost:8080/",
          "height": 283
        },
        "outputId": "7c5669d2-34c8-4f73-8c2d-23de82cc09f5"
      },
      "source": [
        "#Plot intensity vs angle for test data\n",
        "plt.plot('Angle', 'Intensity', data=xrd_test_data)"
      ],
      "execution_count": 224,
      "outputs": [
        {
          "output_type": "execute_result",
          "data": {
            "text/plain": [
              "[<matplotlib.lines.Line2D at 0x7f8c5d4dc3d0>]"
            ]
          },
          "metadata": {
            "tags": []
          },
          "execution_count": 224
        },
        {
          "output_type": "display_data",
          "data": {
            "image/png": "[encoded data removed]",
            "text/plain": [
              "<Figure size 432x288 with 1 Axes>"
            ]
          },
          "metadata": {
            "tags": [],
            "needs_background": "light"
          }
        }
      ]
    },
    {
      "cell_type": "code",
      "metadata": {
        "id": "OUIUbhc4tTf8"
      },
      "source": [
        "#Identifying peaks in given datasets\r\n"
      ],
      "execution_count": 225,
      "outputs": []
    },
    {
      "cell_type": "code",
      "metadata": {
        "id": "BcaNwOqztTf9",
        "colab": {
          "base_uri": "https://localhost:8080/",
          "height": 265
        },
        "outputId": "ed8466a4-3e50-4b38-ca6c-b466e0c4e303"
      },
      "source": [
        "#Peaks in Si standard data\n",
        "from scipy.signal import argrelextrema\n",
        "from scipy.signal import find_peaks\n",
        "x_si = np.array(xrd_si_data['Angle'])\n",
        "y_si = np.array(xrd_si_data['Intensity'])\n",
        "peaks_si, _ = find_peaks(y_si,prominence=200)\n",
        "peak_data_si=pd.DataFrame(columns=['Angle_of_peak','Intensity_of_peak'])\n",
        "peak_data_si['Angle_of_peak']=np.array(x_si[peaks_si])\n",
        "peak_data_si['Intensity_of_peak']=np.array(y_si[peaks_si])\n",
        "# this way the x-axis corresponds to the index of x\n",
        "plt.plot(x_si, y_si)\n",
        "plt.plot(x_si[peaks_si], y_si[peaks_si], \"x\")\n",
        "plt.show()\n",
        "\n",
        "##plot in intensity in log scale as well"
      ],
      "execution_count": 226,
      "outputs": [
        {
          "output_type": "display_data",
          "data": {
            "image/png": "[encoded data removed]",
            "text/plain": [
              "<Figure size 432x288 with 1 Axes>"
            ]
          },
          "metadata": {
            "tags": [],
            "needs_background": "light"
          }
        }
      ]
    },
    {
      "cell_type": "code",
      "metadata": {
        "id": "8Rm3hlfKtTf-",
        "colab": {
          "base_uri": "https://localhost:8080/"
        },
        "outputId": "b55ace3d-d9ff-4869-89e5-fa5118c33530"
      },
      "source": [
        "print(peak_data_si)\n"
      ],
      "execution_count": 227,
      "outputs": [
        {
          "output_type": "stream",
          "text": [
            "   Angle_of_peak  Intensity_of_peak\n",
            "0          47.50          10942.010\n",
            "1          56.32           5906.137\n",
            "2          69.32           1423.979\n",
            "3          76.54           2520.595\n",
            "4          88.18           3326.683\n",
            "5          95.08           1746.806\n",
            "6         106.82           1166.121\n",
            "7         114.18           2005.780\n"
          ],
          "name": "stdout"
        }
      ]
    },
    {
      "cell_type": "code",
      "metadata": {
        "id": "OCi93bDctTf_",
        "colab": {
          "base_uri": "https://localhost:8080/",
          "height": 265
        },
        "outputId": "de81a088-3c18-45f1-dc0e-c4cc41275204"
      },
      "source": [
        "#Peaks in test data\r\n",
        "x_test = np.array(xrd_test_data['Angle'])\r\n",
        "y_test = np.array(xrd_test_data['Intensity'])\r\n",
        "peaks_test, _ = find_peaks(y_test,prominence=200)\r\n",
        "peak_data_test=pd.DataFrame(columns=['Angle_of_peak','Intensity_of_peak'])\r\n",
        "peak_data_test['Angle_of_peak']=np.array(x_test[peaks_test])\r\n",
        "peak_data_test['Intensity_of_peak']=np.array(y_test[peaks_test])\r\n",
        "plt.plot(x_test, y_test)\r\n",
        "plt.plot(x_test[peaks_test], y_test[peaks_test], \"x\")\r\n",
        "plt.show()"
      ],
      "execution_count": 228,
      "outputs": [
        {
          "output_type": "display_data",
          "data": {
            "image/png": "[encoded data removed]",
            "text/plain": [
              "<Figure size 432x288 with 1 Axes>"
            ]
          },
          "metadata": {
            "tags": [],
            "needs_background": "light"
          }
        }
      ]
    },
    {
      "cell_type": "code",
      "metadata": {
        "colab": {
          "base_uri": "https://localhost:8080/"
        },
        "id": "UvXRmuYdvBfy",
        "outputId": "8b37ad8a-46f8-42bd-a92d-b6e61777b9af"
      },
      "source": [
        "print(peak_data_test)"
      ],
      "execution_count": 229,
      "outputs": [
        {
          "output_type": "stream",
          "text": [
            "   Angle_of_peak  Intensity_of_peak\n",
            "0          38.42          1576.8450\n",
            "1          44.64         14650.8500\n",
            "2          65.04          4764.8990\n",
            "3          78.14          1295.5660\n",
            "4          98.90           526.2841\n",
            "5         111.86           613.9078\n",
            "6         116.34           375.0093\n"
          ],
          "name": "stdout"
        }
      ]
    },
    {
      "cell_type": "code",
      "metadata": {
        "id": "zDDpgYnmvRRo"
      },
      "source": [
        "#Convert 2 * theta to theta\r\n",
        "\r\n",
        "peak_data_si['Angle_of_peak']=peak_data_si['Angle_of_peak']/2\r\n",
        "peak_data_test['Angle_of_peak']=peak_data_test['Angle_of_peak']/2"
      ],
      "execution_count": 230,
      "outputs": []
    },
    {
      "cell_type": "code",
      "metadata": {
        "colab": {
          "base_uri": "https://localhost:8080/"
        },
        "id": "ia31z591URck",
        "outputId": "a5639df0-25c7-4b8a-b5fa-1e26e4c8e7f6"
      },
      "source": [
        "#FWHMs of all peaks\r\n",
        "#for si data\r\n",
        "from scipy.signal import peak_widths\r\n",
        "x_si_indices=[]\r\n",
        "for peak in peak_data_si['Angle_of_peak']:\r\n",
        "  for i in range(len(x_si)):\r\n",
        "    if peak==x_si[i]/2:\r\n",
        "      x_si_indices.append(i)\r\n",
        "      break\r\n",
        "no_of_indices_si=len(x_si)\r\n",
        "factor_indices_to_degree=60/no_of_indices_si\r\n",
        "fwhm_si_peaks=pd.DataFrame()\r\n",
        "fwhm_si_peaks=peak_data_si\r\n",
        "tmp=peak_widths(y_si,x_si_indices , rel_height=0.5)\r\n",
        "\r\n",
        "fwhm_si_peaks['fwhm']=tmp[0]*factor_indices_to_degree\r\n",
        "print(fwhm_si_peaks)"
      ],
      "execution_count": 231,
      "outputs": [
        {
          "output_type": "stream",
          "text": [
            "   Angle_of_peak  Intensity_of_peak      fwhm\n",
            "0          23.75          10942.010  0.104771\n",
            "1          28.16           5906.137  0.103359\n",
            "2          34.66           1423.979  0.107627\n",
            "3          38.27           2520.595  0.108865\n",
            "4          44.09           3326.683  0.116304\n",
            "5          47.54           1746.806  0.112221\n",
            "6          53.41           1166.121  0.122142\n",
            "7          57.09           2005.780  0.129126\n"
          ],
          "name": "stdout"
        }
      ]
    },
    {
      "cell_type": "code",
      "metadata": {
        "colab": {
          "base_uri": "https://localhost:8080/"
        },
        "id": "aH9Eclopa6Kr",
        "outputId": "25b8d350-1170-49c3-d490-86fbbbfcae77"
      },
      "source": [
        "#for test data\r\n",
        "import math\r\n",
        "x_test_indices=[]\r\n",
        "for peak in peak_data_test['Angle_of_peak']:\r\n",
        "  for i in range(len(x_test)):\r\n",
        "    if peak==x_test[i]/2:\r\n",
        "      x_test_indices.append(i)\r\n",
        "      break\r\n",
        "no_of_indices_test=len(x_test)\r\n",
        "factor_indices_to_degree_test=60/no_of_indices_test\r\n",
        "fwhm_test_peaks=pd.DataFrame()\r\n",
        "fwhm_test_peaks=peak_data_test\r\n",
        "tmp=peak_widths(y_test,x_test_indices , rel_height=0.5)\r\n",
        "fwhm_test_peaks['fwhm']=tmp[0]*factor_indices_to_degree_test\r\n",
        "print(fwhm_test_peaks)"
      ],
      "execution_count": 232,
      "outputs": [
        {
          "output_type": "stream",
          "text": [
            "   Angle_of_peak  Intensity_of_peak      fwhm\n",
            "0          19.21          1576.8450  0.141936\n",
            "1          22.32         14650.8500  0.141137\n",
            "2          32.52          4764.8990  0.178519\n",
            "3          39.07          1295.5660  0.227316\n",
            "4          49.45           526.2841  0.327136\n",
            "5          55.93           613.9078  0.325303\n",
            "6          58.17           375.0093  0.381005\n"
          ],
          "name": "stdout"
        }
      ]
    },
    {
      "cell_type": "code",
      "metadata": {
        "id": "5LAm16f8ihus"
      },
      "source": [
        "#Plot Williamson-Hall Plot"
      ],
      "execution_count": 233,
      "outputs": []
    },
    {
      "cell_type": "code",
      "metadata": {
        "colab": {
          "base_uri": "https://localhost:8080/",
          "height": 122
        },
        "id": "M-nXBZswi6He",
        "outputId": "7a145790-09f3-4870-897e-7af492b7f8cf"
      },
      "source": [
        "#for Si data\r\n",
        "\"\"\"fwhm_si_peaks['fwhm']=fwhm_si_peaks['fwhm']-0.15\r\n",
        "for i in range(len(fwhm_si_peaks['fwhm'])):\r\n",
        "  fwhm_si_peaks.iloc[i,2]=(fwhm_si_peaks.iloc[i,2])*3.14/180\r\n",
        "wh_data_si=pd.DataFrame()\r\n",
        "import math\r\n",
        "wh_x_si=[]\r\n",
        "for i in range(len(fwhm_si_peaks['fwhm'])):\r\n",
        "  wh_x_si.append(math.sin(math.radians(fwhm_si_peaks.iloc[i,0])))\r\n",
        "wh_y_si=[]\r\n",
        "for i in range(len(fwhm_si_peaks['fwhm'])):\r\n",
        "  print(fwhm_si_peaks.iloc[i,0])\r\n",
        "  wh_y_si.append(math.cos(math.radians(fwhm_si_peaks.iloc[i,0]))*fwhm_si_peaks.iloc[i,2])\r\n",
        "wh_data_si['x']=wh_x_si\r\n",
        "wh_data_si['y']=wh_y_si\r\n",
        "print(wh_data_si)\r\n",
        "m, b = np.polyfit(wh_x_si, wh_y_si, 1)\r\n",
        "plt.plot(wh_x_si, wh_y_si, 'o')\r\n",
        "wh_y_si_pred=[]\r\n",
        "for i in range(len(wh_x_si)):\r\n",
        "  wh_y_si_pred.append(m*wh_x_si[i]+b)\r\n",
        "plt.plot(wh_x_si,wh_y_si_pred)\r\n",
        "\"\"\""
      ],
      "execution_count": 234,
      "outputs": [
        {
          "output_type": "execute_result",
          "data": {
            "application/vnd.google.colaboratory.intrinsic+json": {
              "type": "string"
            },
            "text/plain": [
              "\"fwhm_si_peaks['fwhm']=fwhm_si_peaks['fwhm']-0.15\\nfor i in range(len(fwhm_si_peaks['fwhm'])):\\n  fwhm_si_peaks.iloc[i,2]=(fwhm_si_peaks.iloc[i,2])*3.14/180\\nwh_data_si=pd.DataFrame()\\nimport math\\nwh_x_si=[]\\nfor i in range(len(fwhm_si_peaks['fwhm'])):\\n  wh_x_si.append(math.sin(math.radians(fwhm_si_peaks.iloc[i,0])))\\nwh_y_si=[]\\nfor i in range(len(fwhm_si_peaks['fwhm'])):\\n  print(fwhm_si_peaks.iloc[i,0])\\n  wh_y_si.append(math.cos(math.radians(fwhm_si_peaks.iloc[i,0]))*fwhm_si_peaks.iloc[i,2])\\nwh_data_si['x']=wh_x_si\\nwh_data_si['y']=wh_y_si\\nprint(wh_data_si)\\nm, b = np.polyfit(wh_x_si, wh_y_si, 1)\\nplt.plot(wh_x_si, wh_y_si, 'o')\\nwh_y_si_pred=[]\\nfor i in range(len(wh_x_si)):\\n  wh_y_si_pred.append(m*wh_x_si[i]+b)\\nplt.plot(wh_x_si,wh_y_si_pred)\\n\""
            ]
          },
          "metadata": {
            "tags": []
          },
          "execution_count": 234
        }
      ]
    },
    {
      "cell_type": "code",
      "metadata": {
        "colab": {
          "base_uri": "https://localhost:8080/",
          "height": 439
        },
        "id": "rZFa8ecDuTG6",
        "outputId": "2bdaced4-a137-4bb0-ad56-b80595cdfee4"
      },
      "source": [
        "#Plot Williamson Hall plot for sample data\r\n",
        "\r\n",
        "#function to find closest peak in Si standard corresponding to sample peak\r\n",
        "\r\n",
        "def find_closest(lst, K):   \r\n",
        "  val=1000\r\n",
        "  ans=0\r\n",
        "  for i in range(len(lst)):\r\n",
        "    if val>abs(lst[i]-K):\r\n",
        "      val=abs(lst[i]-K)\r\n",
        "      ans=lst[i]\r\n",
        "  return ans\r\n",
        "\r\n",
        "import scipy\r\n",
        "\r\n",
        "for i in range(len(fwhm_test_peaks['fwhm'])):\r\n",
        "  instr_broadening=fwhm_si_peaks.loc[fwhm_si_peaks['Angle_of_peak']==find_closest(fwhm_si_peaks['Angle_of_peak'],fwhm_test_peaks.iloc[i,0]),'fwhm']\r\n",
        "  #print(instr_broadening)\r\n",
        "  instr_broadening=np.array(instr_broadening)\r\n",
        "  fwhm_test_peaks.iloc[i,2]=fwhm_test_peaks.iloc[i,2]-instr_broadening[0]\r\n",
        "  #print(fwhm_test_peaks.iloc[i,2])\r\n",
        "\r\n",
        "for i in range(len(fwhm_test_peaks['fwhm'])):\r\n",
        "  fwhm_test_peaks.iloc[i,2]=(fwhm_test_peaks.iloc[i,2])*3.14/180\r\n",
        "wh_data_test=pd.DataFrame()\r\n",
        "import math\r\n",
        "wh_x_test=[]\r\n",
        "for i in range(len(fwhm_test_peaks['fwhm'])):\r\n",
        "  wh_x_test.append(math.sin(math.radians(fwhm_test_peaks.iloc[i,0])))\r\n",
        "wh_y_test=[]\r\n",
        "for i in range(len(fwhm_test_peaks['fwhm'])):\r\n",
        "  #print(fwhm_test_peaks.iloc[i,0])\r\n",
        "  wh_y_test.append(math.cos(math.radians(fwhm_test_peaks.iloc[i,0]))*fwhm_test_peaks.iloc[i,2])\r\n",
        "wh_data_test['x']=wh_x_test\r\n",
        "wh_data_test['y']=wh_y_test\r\n",
        "\r\n",
        "m, b, r_value, p_value, std_err = scipy.stats.linregress(wh_x_test, wh_y_test) \r\n",
        "print(wh_data_test)\r\n",
        "print(\"r squared:\",r_value**2)\r\n",
        "plt.plot(wh_x_test, wh_y_test, 'o')\r\n",
        "wh_y_test_pred=[]\r\n",
        "for i in range(len(wh_x_test)):\r\n",
        "  wh_y_test_pred.append(m*wh_x_test[i]+b)\r\n",
        "plt.plot(wh_x_test,wh_y_test_pred)"
      ],
      "execution_count": 235,
      "outputs": [
        {
          "output_type": "stream",
          "text": [
            "          x         y\n",
            "0  0.329031  0.000612\n",
            "1  0.379779  0.000587\n",
            "2  0.537594  0.001043\n",
            "3  0.630269  0.001604\n",
            "4  0.759839  0.002437\n",
            "5  0.828354  0.001917\n",
            "6  0.849617  0.002317\n",
            "r squared: 0.9012139584403163\n"
          ],
          "name": "stdout"
        },
        {
          "output_type": "execute_result",
          "data": {
            "text/plain": [
              "[<matplotlib.lines.Line2D at 0x7f8c5d332c90>]"
            ]
          },
          "metadata": {
            "tags": []
          },
          "execution_count": 235
        },
        {
          "output_type": "display_data",
          "data": {
            "image/png": "[encoded data removed]",
            "text/plain": [
              "<Figure size 432x288 with 1 Axes>"
            ]
          },
          "metadata": {
            "tags": [],
            "needs_background": "light"
          }
        }
      ]
    },
    {
      "cell_type": "code",
      "metadata": {
        "id": "_mYffrJkB9sc",
        "colab": {
          "base_uri": "https://localhost:8080/"
        },
        "outputId": "7d92c1aa-27c6-4b04-db3f-d7de5d570b01"
      },
      "source": [
        "#compute T\r\n",
        "print(b)\r\n",
        "T=0.9*0.15/b\r\n",
        "T=abs(T)\r\n",
        "print(T)"
      ],
      "execution_count": 243,
      "outputs": [
        {
          "output_type": "stream",
          "text": [
            "-0.0006433611833450328\n",
            "209.83547577131318\n"
          ],
          "name": "stdout"
        }
      ]
    },
    {
      "cell_type": "code",
      "metadata": {
        "id": "n05q5cjBtTgA",
        "colab": {
          "base_uri": "https://localhost:8080/"
        },
        "outputId": "3af49825-4d37-4429-bebe-3a3532d3d587"
      },
      "source": [
        "#compute strain\r\n",
        "print(m)\r\n",
        "E=m/4\r\n",
        "print(\"strain:\", m/4)"
      ],
      "execution_count": 241,
      "outputs": [
        {
          "output_type": "stream",
          "text": [
            "0.003481616196287071\n",
            "strain: 0.0008704040490717678\n"
          ],
          "name": "stdout"
        }
      ]
    },
    {
      "cell_type": "code",
      "metadata": {
        "id": "3kBtjztP_-O_",
        "colab": {
          "base_uri": "https://localhost:8080/"
        },
        "outputId": "ffc7c1cd-c58b-4c79-e4a8-44ab145f35bc"
      },
      "source": [
        "#compute dislocation density\r\n",
        "p=(2/3 * E )/ (T * 0.286)\r\n",
        "print(\"dislocation density in square_metre:\" , p* 10**18)"
      ],
      "execution_count": 246,
      "outputs": [
        {
          "output_type": "stream",
          "text": [
            "dislocation density in square_metre: 9669069826454.64\n"
          ],
          "name": "stdout"
        }
      ]
    },
    {
      "cell_type": "code",
      "metadata": {
        "id": "mwOKDa-0GVTq"
      },
      "source": [
        ""
      ],
      "execution_count": 235,
      "outputs": []
    },
    {
      "cell_type": "code",
      "metadata": {
        "id": "TN7p_3UwGYG-"
      },
      "source": [
        ""
      ],
      "execution_count": 235,
      "outputs": []
    }
  ]
}